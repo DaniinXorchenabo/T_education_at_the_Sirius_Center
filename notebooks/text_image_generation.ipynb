{
 "cells": [
  {
   "cell_type": "code",
   "execution_count": null,
   "id": "initial_id",
   "metadata": {
    "collapsed": true
   },
   "outputs": [],
   "source": [
    ""
   ]
  },
  {
   "metadata": {
    "ExecuteTime": {
     "end_time": "2024-09-30T12:54:24.605028Z",
     "start_time": "2024-09-30T12:54:24.602535Z"
    }
   },
   "cell_type": "code",
   "source": [
    "import os\n",
    "import sys\n",
    "\n",
    "os.chdir('/workspace/NN')\n",
    "\n",
    "ROOT_PATH = '/workspace/NN'\n",
    "DATA_PATCH = os.path.join(ROOT_PATH, 'data')\n",
    "# from transformers import AutoProcessor, AutoModelForSeq2SeqLM\n",
    "# \n",
    "# processor = AutoProcessor.from_pretrained(\"upro/blip\")\n",
    "# model = AutoModelForSeq2SeqLM.from_pretrained(\"upro/blip\")"
   ],
   "id": "ae424c1e3d211e06",
   "outputs": [],
   "execution_count": 3
  },
  {
   "metadata": {
    "ExecuteTime": {
     "end_time": "2024-09-30T13:08:57.852923Z",
     "start_time": "2024-09-30T13:08:52.770006Z"
    }
   },
   "cell_type": "code",
   "source": [
    "\n",
    "import requests\n",
    "from PIL import Image\n",
    "from transformers import BlipProcessor, BlipForConditionalGeneration\n",
    "\n",
    "processor = BlipProcessor.from_pretrained(\"Salesforce/blip-image-captioning-large\")\n",
    "model = BlipForConditionalGeneration.from_pretrained(\"Salesforce/blip-image-captioning-large\")\n",
    "\n",
    "img_url =  os.path.join(DATA_PATCH, 'sirius_data', '1.jpg') \n",
    "raw_image = Image.open(img_url)\n",
    "\n",
    "# conditional image captioning\n",
    "text = \"a product of \"\n",
    "inputs = processor(raw_image, text, return_tensors=\"pt\")\n",
    "\n",
    "out = model.generate(**inputs)\n",
    "print(processor.decode(out[0], skip_special_tokens=True))\n",
    "\n",
    "print(*[processor.decode(i, skip_special_tokens=True) for i in out], sep='\\n', end='\\n\\n')\n",
    "\n",
    "# unconditional image captioning\n",
    "inputs = processor(raw_image, return_tensors=\"pt\")\n",
    "\n",
    "out = model.generate(**inputs)\n",
    "print(processor.decode(out[0], skip_special_tokens=True))\n",
    "print(*[processor.decode(i, skip_special_tokens=True) for i in out], sep='\\n')"
   ],
   "id": "7538485adef66e0c",
   "outputs": [
    {
     "name": "stdout",
     "output_type": "stream",
     "text": [
      "a product of a woman in a black and white striped top\n",
      "a product of a woman in a black and white striped top\n",
      "\n",
      "arafed woman in black pants and a striped top\n",
      "arafed woman in black pants and a striped top\n"
     ]
    }
   ],
   "execution_count": 12
  }
 ],
 "metadata": {
  "kernelspec": {
   "display_name": "Python 3",
   "language": "python",
   "name": "python3"
  },
  "language_info": {
   "codemirror_mode": {
    "name": "ipython",
    "version": 2
   },
   "file_extension": ".py",
   "mimetype": "text/x-python",
   "name": "python",
   "nbconvert_exporter": "python",
   "pygments_lexer": "ipython2",
   "version": "2.7.6"
  }
 },
 "nbformat": 4,
 "nbformat_minor": 5
}
