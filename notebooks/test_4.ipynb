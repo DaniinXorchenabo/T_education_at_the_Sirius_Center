{
 "cells": [
  {
   "cell_type": "code",
   "execution_count": 2,
   "id": "4b3669025f4d4c8e",
   "metadata": {
    "ExecuteTime": {
     "end_time": "2024-09-28T16:26:30.264492400Z",
     "start_time": "2024-09-28T16:26:13.665435300Z"
    }
   },
   "outputs": [
    {
     "name": "stdout",
     "output_type": "stream",
     "text": [
      "Hit:1 http://developer.download.nvidia.com/compute/cuda/repos/debian11/x86_64  InRelease\r\n",
      "Hit:2 http://deb.debian.org/debian bullseye InRelease\r\n",
      "Hit:3 http://deb.debian.org/debian-security bullseye-security InRelease\r\n",
      "Get:4 http://deb.debian.org/debian bullseye-updates InRelease [44.1 kB]\r\n",
      "Fetched 44.1 kB in 1s (69.7 kB/s)   \r\n",
      "Reading package lists... Done\r\n",
      "Reading package lists... Done\r\n",
      "Building dependency tree... Done\r\n",
      "Reading state information... Done\r\n",
      "The following additional packages will be installed:\r\n",
      "  git-man less libcbor0 libcurl3-gnutls liberror-perl libfido2-1\r\n",
      "  libgdbm-compat4 libnghttp2-14 libperl5.32 libpsl5 librtmp1 libssh2-1\r\n",
      "  libxmuu1 openssh-client patch perl perl-modules-5.32 publicsuffix xauth\r\n",
      "Suggested packages:\r\n",
      "  gettext-base git-daemon-run | git-daemon-sysvinit git-doc git-el git-email\r\n",
      "  git-gui gitk gitweb git-cvs git-mediawiki git-svn keychain libpam-ssh\r\n",
      "  monkeysphere ssh-askpass ed diffutils-doc perl-doc libterm-readline-gnu-perl\r\n",
      "  | libterm-readline-perl-perl make libtap-harness-archive-perl\r\n",
      "The following NEW packages will be installed:\r\n",
      "  git git-man less libcbor0 libcurl3-gnutls liberror-perl libfido2-1\r\n",
      "  libgdbm-compat4 libnghttp2-14 libperl5.32 libpsl5 librtmp1 libssh2-1\r\n",
      "  libxmuu1 openssh-client patch perl perl-modules-5.32 publicsuffix xauth\r\n",
      "0 upgraded, 20 newly installed, 0 to remove and 20 not upgraded.\r\n",
      "Need to get 16.9 MB of archives.\r\n",
      "After this operation, 92.6 MB of additional disk space will be used.\r\n",
      "Get:1 http://deb.debian.org/debian bullseye/main amd64 perl-modules-5.32 all 5.32.1-4+deb11u3 [2823 kB]\r\n",
      "Get:2 http://deb.debian.org/debian bullseye/main amd64 libgdbm-compat4 amd64 1.19-2 [44.7 kB]\r\n",
      "Get:3 http://deb.debian.org/debian bullseye/main amd64 libperl5.32 amd64 5.32.1-4+deb11u3 [4121 kB]\r\n",
      "Get:4 http://deb.debian.org/debian bullseye/main amd64 perl amd64 5.32.1-4+deb11u3 [293 kB]\r\n",
      "Get:5 http://deb.debian.org/debian bullseye/main amd64 less amd64 551-2+deb11u2 [136 kB]\r\n",
      "Get:6 http://deb.debian.org/debian bullseye/main amd64 libcbor0 amd64 0.5.0+dfsg-2 [24.0 kB]\r\n",
      "Get:7 http://deb.debian.org/debian bullseye/main amd64 libfido2-1 amd64 1.6.0-2 [53.3 kB]\r\n",
      "Get:8 http://deb.debian.org/debian bullseye/main amd64 openssh-client amd64 1:8.4p1-5+deb11u3 [932 kB]\r\n",
      "Get:9 http://deb.debian.org/debian-security bullseye-security/main amd64 libnghttp2-14 amd64 1.43.0-1+deb11u2 [77.0 kB]\r\n",
      "Get:10 http://deb.debian.org/debian bullseye/main amd64 libpsl5 amd64 0.21.0-1.2 [57.3 kB]\r\n",
      "Get:11 http://deb.debian.org/debian bullseye/main amd64 librtmp1 amd64 2.4+20151223.gitfa8646d.1-2+b2 [60.8 kB]\r\n",
      "Get:12 http://deb.debian.org/debian bullseye/main amd64 libssh2-1 amd64 1.9.0-2+deb11u1 [156 kB]\r\n",
      "Get:13 http://deb.debian.org/debian bullseye/main amd64 libcurl3-gnutls amd64 7.74.0-1.3+deb11u13 [344 kB]\r\n",
      "Get:14 http://deb.debian.org/debian bullseye/main amd64 liberror-perl all 0.17029-1 [31.0 kB]\r\n",
      "Get:15 http://deb.debian.org/debian-security bullseye-security/main amd64 git-man all 1:2.30.2-1+deb11u3 [1831 kB]\r\n",
      "Get:16 http://deb.debian.org/debian-security bullseye-security/main amd64 git amd64 1:2.30.2-1+deb11u3 [5573 kB]\r\n",
      "Get:17 http://deb.debian.org/debian bullseye/main amd64 libxmuu1 amd64 2:1.1.2-2+b3 [23.9 kB]\r\n",
      "Get:18 http://deb.debian.org/debian bullseye/main amd64 patch amd64 2.7.6-7 [128 kB]\r\n",
      "Get:19 http://deb.debian.org/debian bullseye/main amd64 publicsuffix all 20220811.1734-0+deb11u1 [127 kB]\r\n",
      "Get:20 http://deb.debian.org/debian bullseye/main amd64 xauth amd64 1:1.1-1 [40.5 kB]\r\n",
      "Fetched 16.9 MB in 1s (17.7 MB/s)\r\n",
      "debconf: delaying package configuration, since apt-utils is not installed\r\n",
      "Selecting previously unselected package perl-modules-5.32.\r\n",
      "(Reading database ... 10760 files and directories currently installed.)\r\n",
      "Preparing to unpack .../00-perl-modules-5.32_5.32.1-4+deb11u3_all.deb ...\r\n",
      "Unpacking perl-modules-5.32 (5.32.1-4+deb11u3) ...\r\n",
      "Selecting previously unselected package libgdbm-compat4:amd64.\r\n",
      "Preparing to unpack .../01-libgdbm-compat4_1.19-2_amd64.deb ...\r\n",
      "Unpacking libgdbm-compat4:amd64 (1.19-2) ...\r\n",
      "Selecting previously unselected package libperl5.32:amd64.\r\n",
      "Preparing to unpack .../02-libperl5.32_5.32.1-4+deb11u3_amd64.deb ...\r\n",
      "Unpacking libperl5.32:amd64 (5.32.1-4+deb11u3) ...\r\n",
      "Selecting previously unselected package perl.\r\n",
      "Preparing to unpack .../03-perl_5.32.1-4+deb11u3_amd64.deb ...\r\n",
      "Unpacking perl (5.32.1-4+deb11u3) ...\r\n",
      "Selecting previously unselected package less.\r\n",
      "Preparing to unpack .../04-less_551-2+deb11u2_amd64.deb ...\r\n",
      "Unpacking less (551-2+deb11u2) ...\r\n",
      "Selecting previously unselected package libcbor0:amd64.\r\n",
      "Preparing to unpack .../05-libcbor0_0.5.0+dfsg-2_amd64.deb ...\r\n",
      "Unpacking libcbor0:amd64 (0.5.0+dfsg-2) ...\r\n",
      "Selecting previously unselected package libfido2-1:amd64.\r\n",
      "Preparing to unpack .../06-libfido2-1_1.6.0-2_amd64.deb ...\r\n",
      "Unpacking libfido2-1:amd64 (1.6.0-2) ...\r\n",
      "Selecting previously unselected package openssh-client.\r\n",
      "Preparing to unpack .../07-openssh-client_1%3a8.4p1-5+deb11u3_amd64.deb ...\r\n",
      "Unpacking openssh-client (1:8.4p1-5+deb11u3) ...\r\n",
      "Selecting previously unselected package libnghttp2-14:amd64.\r\n",
      "Preparing to unpack .../08-libnghttp2-14_1.43.0-1+deb11u2_amd64.deb ...\r\n",
      "Unpacking libnghttp2-14:amd64 (1.43.0-1+deb11u2) ...\r\n",
      "Selecting previously unselected package libpsl5:amd64.\r\n",
      "Preparing to unpack .../09-libpsl5_0.21.0-1.2_amd64.deb ...\r\n",
      "Unpacking libpsl5:amd64 (0.21.0-1.2) ...\r\n",
      "Selecting previously unselected package librtmp1:amd64.\r\n",
      "Preparing to unpack .../10-librtmp1_2.4+20151223.gitfa8646d.1-2+b2_amd64.deb ...\r\n",
      "Unpacking librtmp1:amd64 (2.4+20151223.gitfa8646d.1-2+b2) ...\r\n",
      "Selecting previously unselected package libssh2-1:amd64.\r\n",
      "Preparing to unpack .../11-libssh2-1_1.9.0-2+deb11u1_amd64.deb ...\r\n",
      "Unpacking libssh2-1:amd64 (1.9.0-2+deb11u1) ...\r\n",
      "Selecting previously unselected package libcurl3-gnutls:amd64.\r\n",
      "Preparing to unpack .../12-libcurl3-gnutls_7.74.0-1.3+deb11u13_amd64.deb ...\r\n",
      "Unpacking libcurl3-gnutls:amd64 (7.74.0-1.3+deb11u13) ...\r\n",
      "Selecting previously unselected package liberror-perl.\r\n",
      "Preparing to unpack .../13-liberror-perl_0.17029-1_all.deb ...\r\n",
      "Unpacking liberror-perl (0.17029-1) ...\r\n",
      "Selecting previously unselected package git-man.\r\n",
      "Preparing to unpack .../14-git-man_1%3a2.30.2-1+deb11u3_all.deb ...\r\n",
      "Unpacking git-man (1:2.30.2-1+deb11u3) ...\r\n",
      "Selecting previously unselected package git.\r\n",
      "Preparing to unpack .../15-git_1%3a2.30.2-1+deb11u3_amd64.deb ...\r\n",
      "Unpacking git (1:2.30.2-1+deb11u3) ...\r\n",
      "Selecting previously unselected package libxmuu1:amd64.\r\n",
      "Preparing to unpack .../16-libxmuu1_2%3a1.1.2-2+b3_amd64.deb ...\r\n",
      "Unpacking libxmuu1:amd64 (2:1.1.2-2+b3) ...\r\n",
      "Selecting previously unselected package patch.\r\n",
      "Preparing to unpack .../17-patch_2.7.6-7_amd64.deb ...\r\n",
      "Unpacking patch (2.7.6-7) ...\r\n",
      "Selecting previously unselected package publicsuffix.\r\n",
      "Preparing to unpack .../18-publicsuffix_20220811.1734-0+deb11u1_all.deb ...\r\n",
      "Unpacking publicsuffix (20220811.1734-0+deb11u1) ...\r\n",
      "Selecting previously unselected package xauth.\r\n",
      "Preparing to unpack .../19-xauth_1%3a1.1-1_amd64.deb ...\r\n",
      "Unpacking xauth (1:1.1-1) ...\r\n",
      "Setting up libpsl5:amd64 (0.21.0-1.2) ...\r\n",
      "Setting up perl-modules-5.32 (5.32.1-4+deb11u3) ...\r\n",
      "Setting up libcbor0:amd64 (0.5.0+dfsg-2) ...\r\n",
      "Setting up libnghttp2-14:amd64 (1.43.0-1+deb11u2) ...\r\n",
      "Setting up less (551-2+deb11u2) ...\r\n",
      "Setting up librtmp1:amd64 (2.4+20151223.gitfa8646d.1-2+b2) ...\r\n",
      "Setting up patch (2.7.6-7) ...\r\n",
      "Setting up libgdbm-compat4:amd64 (1.19-2) ...\r\n",
      "Setting up libperl5.32:amd64 (5.32.1-4+deb11u3) ...\r\n",
      "Setting up git-man (1:2.30.2-1+deb11u3) ...\r\n",
      "Setting up libssh2-1:amd64 (1.9.0-2+deb11u1) ...\r\n",
      "Setting up libfido2-1:amd64 (1.6.0-2) ...\r\n",
      "Setting up publicsuffix (20220811.1734-0+deb11u1) ...\r\n",
      "Setting up libxmuu1:amd64 (2:1.1.2-2+b3) ...\r\n",
      "Setting up openssh-client (1:8.4p1-5+deb11u3) ...\r\n",
      "Setting up libcurl3-gnutls:amd64 (7.74.0-1.3+deb11u13) ...\r\n",
      "Setting up perl (5.32.1-4+deb11u3) ...\r\n",
      "Setting up xauth (1:1.1-1) ...\r\n",
      "Setting up liberror-perl (0.17029-1) ...\r\n",
      "Setting up git (1:2.30.2-1+deb11u3) ...\r\n",
      "Processing triggers for libc-bin (2.31-13+deb11u8) ...\r\n",
      "Collecting git+https://github.com/facebookresearch/segment-anything.git\r\n",
      "  Cloning https://github.com/facebookresearch/segment-anything.git to /tmp/pip-req-build-u2ak_ih4\r\n",
      "  Running command git clone --filter=blob:none --quiet https://github.com/facebookresearch/segment-anything.git /tmp/pip-req-build-u2ak_ih4\r\n",
      "  Resolved https://github.com/facebookresearch/segment-anything.git to commit dca509fe793f601edb92606367a655c15ac00fdf\r\n",
      "  Preparing metadata (setup.py) ... \u001B[?25ldone\r\n",
      "\u001B[?25hRequirement already satisfied: opencv-python in /usr/local/lib/python3.11/site-packages (4.10.0.84)\r\n",
      "Collecting pycocotools\r\n",
      "  Downloading pycocotools-2.0.8-cp311-cp311-manylinux_2_17_x86_64.manylinux2014_x86_64.whl.metadata (1.1 kB)\r\n",
      "Collecting onnxruntime\r\n",
      "  Downloading onnxruntime-1.19.2-cp311-cp311-manylinux_2_27_x86_64.manylinux_2_28_x86_64.whl.metadata (4.5 kB)\r\n",
      "Collecting onnx\r\n",
      "  Downloading onnx-1.16.2-cp311-cp311-manylinux_2_17_x86_64.manylinux2014_x86_64.whl.metadata (16 kB)\r\n",
      "Requirement already satisfied: numpy>=1.21.2 in /usr/local/lib/python3.11/site-packages (from opencv-python) (1.26.4)\r\n",
      "Requirement already satisfied: matplotlib>=2.1.0 in /usr/local/lib/python3.11/site-packages (from pycocotools) (3.8.2)\r\n",
      "Collecting coloredlogs (from onnxruntime)\r\n",
      "  Downloading coloredlogs-15.0.1-py2.py3-none-any.whl.metadata (12 kB)\r\n",
      "Collecting flatbuffers (from onnxruntime)\r\n",
      "  Downloading flatbuffers-24.3.25-py2.py3-none-any.whl.metadata (850 bytes)\r\n",
      "Requirement already satisfied: packaging in /usr/local/lib/python3.11/site-packages (from onnxruntime) (24.1)\r\n",
      "Requirement already satisfied: protobuf in /usr/local/lib/python3.11/site-packages (from onnxruntime) (5.26.1)\r\n",
      "Requirement already satisfied: sympy in /usr/local/lib/python3.11/site-packages (from onnxruntime) (1.13.3)\r\n",
      "Requirement already satisfied: contourpy>=1.0.1 in /usr/local/lib/python3.11/site-packages (from matplotlib>=2.1.0->pycocotools) (1.3.0)\r\n",
      "Requirement already satisfied: cycler>=0.10 in /usr/local/lib/python3.11/site-packages (from matplotlib>=2.1.0->pycocotools) (0.12.1)\r\n",
      "Requirement already satisfied: fonttools>=4.22.0 in /usr/local/lib/python3.11/site-packages (from matplotlib>=2.1.0->pycocotools) (4.54.1)\r\n",
      "Requirement already satisfied: kiwisolver>=1.3.1 in /usr/local/lib/python3.11/site-packages (from matplotlib>=2.1.0->pycocotools) (1.4.7)\r\n",
      "Requirement already satisfied: pillow>=8 in /usr/local/lib/python3.11/site-packages (from matplotlib>=2.1.0->pycocotools) (10.4.0)\r\n",
      "Requirement already satisfied: pyparsing>=2.3.1 in /usr/local/lib/python3.11/site-packages (from matplotlib>=2.1.0->pycocotools) (3.1.4)\r\n",
      "Requirement already satisfied: python-dateutil>=2.7 in /usr/local/lib/python3.11/site-packages (from matplotlib>=2.1.0->pycocotools) (2.9.0.post0)\r\n",
      "Collecting humanfriendly>=9.1 (from coloredlogs->onnxruntime)\r\n",
      "  Downloading humanfriendly-10.0-py2.py3-none-any.whl.metadata (9.2 kB)\r\n",
      "Requirement already satisfied: mpmath<1.4,>=1.1.0 in /usr/local/lib/python3.11/site-packages (from sympy->onnxruntime) (1.3.0)\r\n",
      "Requirement already satisfied: six>=1.5 in /usr/local/lib/python3.11/site-packages (from python-dateutil>=2.7->matplotlib>=2.1.0->pycocotools) (1.16.0)\r\n",
      "Downloading pycocotools-2.0.8-cp311-cp311-manylinux_2_17_x86_64.manylinux2014_x86_64.whl (458 kB)\r\n",
      "\u001B[2K   \u001B[90m━━━━━━━━━━━━━━━━━━━━━━━━━━━━━━━━━━━━━━━━\u001B[0m \u001B[32m458.7/458.7 kB\u001B[0m \u001B[31m2.7 MB/s\u001B[0m eta \u001B[36m0:00:00\u001B[0ma \u001B[36m0:00:01\u001B[0m\r\n",
      "\u001B[?25hDownloading onnxruntime-1.19.2-cp311-cp311-manylinux_2_27_x86_64.manylinux_2_28_x86_64.whl (13.2 MB)\r\n",
      "\u001B[2K   \u001B[90m━━━━━━━━━━━━━━━━━━━━━━━━━━━━━━━━━━━━━━━━\u001B[0m \u001B[32m13.2/13.2 MB\u001B[0m \u001B[31m19.7 MB/s\u001B[0m eta \u001B[36m0:00:00\u001B[0m00:01\u001B[0m00:01\u001B[0m\r\n",
      "\u001B[?25hDownloading onnx-1.16.2-cp311-cp311-manylinux_2_17_x86_64.manylinux2014_x86_64.whl (15.9 MB)\r\n",
      "\u001B[2K   \u001B[90m━━━━━━━━━━━━━━━━━━━━━━━━━━━━━━━━━━━━━━━━\u001B[0m \u001B[32m15.9/15.9 MB\u001B[0m \u001B[31m54.4 MB/s\u001B[0m eta \u001B[36m0:00:00\u001B[0m00:01\u001B[0m00:01\u001B[0m\r\n",
      "\u001B[?25hDownloading coloredlogs-15.0.1-py2.py3-none-any.whl (46 kB)\r\n",
      "\u001B[2K   \u001B[90m━━━━━━━━━━━━━━━━━━━━━━━━━━━━━━━━━━━━━━━━\u001B[0m \u001B[32m46.0/46.0 kB\u001B[0m \u001B[31m2.8 MB/s\u001B[0m eta \u001B[36m0:00:00\u001B[0m\r\n",
      "\u001B[?25hDownloading flatbuffers-24.3.25-py2.py3-none-any.whl (26 kB)\r\n",
      "Downloading humanfriendly-10.0-py2.py3-none-any.whl (86 kB)\r\n",
      "\u001B[2K   \u001B[90m━━━━━━━━━━━━━━━━━━━━━━━━━━━━━━━━━━━━━━━━\u001B[0m \u001B[32m86.8/86.8 kB\u001B[0m \u001B[31m8.0 MB/s\u001B[0m eta \u001B[36m0:00:00\u001B[0m\r\n",
      "\u001B[?25hBuilding wheels for collected packages: segment_anything\r\n",
      "  Building wheel for segment_anything (setup.py) ... \u001B[?25ldone\r\n",
      "\u001B[?25h  Created wheel for segment_anything: filename=segment_anything-1.0-py3-none-any.whl size=36592 sha256=ad259032fdaa0699e33d43bbf0c9e22eec887bdeac0fb5d2806952535d8ac01f\r\n",
      "  Stored in directory: /tmp/pip-ephem-wheel-cache-n5_hc9jd/wheels/15/d7/bd/05f5f23b7dcbe70cbc6783b06f12143b0cf1a5da5c7b52dcc5\r\n",
      "Successfully built segment_anything\r\n",
      "Installing collected packages: segment_anything, flatbuffers, onnx, humanfriendly, coloredlogs, pycocotools, onnxruntime\r\n",
      "Successfully installed coloredlogs-15.0.1 flatbuffers-24.3.25 humanfriendly-10.0 onnx-1.16.2 onnxruntime-1.19.2 pycocotools-2.0.8 segment_anything-1.0\r\n",
      "\u001B[33mWARNING: Running pip as the 'root' user can result in broken permissions and conflicting behaviour with the system package manager. It is recommended to use a virtual environment instead: https://pip.pypa.io/warnings/venv\u001B[0m\u001B[33m\r\n",
      "\u001B[0m\r\n",
      "\u001B[1m[\u001B[0m\u001B[34;49mnotice\u001B[0m\u001B[1;39;49m]\u001B[0m\u001B[39;49m A new release of pip is available: \u001B[0m\u001B[31;49m24.0\u001B[0m\u001B[39;49m -> \u001B[0m\u001B[32;49m24.2\u001B[0m\r\n",
      "\u001B[1m[\u001B[0m\u001B[34;49mnotice\u001B[0m\u001B[1;39;49m]\u001B[0m\u001B[39;49m To update, run: \u001B[0m\u001B[32;49mpip install --upgrade pip\u001B[0m\r\n"
     ]
    }
   ],
   "source": [
    "!apt-get update && apt-get install -y git\n",
    "!pip install git+https://github.com/facebookresearch/segment-anything.git  opencv-python pycocotools  onnxruntime onnx"
   ]
  },
  {
   "cell_type": "code",
   "execution_count": null,
   "outputs": [],
   "source": [],
   "metadata": {
    "collapsed": false
   }
  },
  {
   "cell_type": "code",
   "execution_count": 5,
   "outputs": [],
   "source": [
    "from segment_anything import SamPredictor, sam_model_registry\n",
    "import os\n",
    "import cv2\n",
    "\n",
    "os.chdir('/workspace/NN')\n",
    "\n",
    "pretrained_ckpt = '/workspace/NN/weights/sam/sam_vit_h_4b8939.pth'\n",
    "\n",
    "sam = sam_model_registry[\"vit_h\"](checkpoint=pretrained_ckpt)\n",
    "sam.to(device='cuda')\n",
    "predictor = SamPredictor(sam)"
   ],
   "metadata": {
    "collapsed": false,
    "ExecuteTime": {
     "end_time": "2024-09-28T18:30:19.073383600Z",
     "start_time": "2024-09-28T18:30:09.242291200Z"
    }
   }
  },
  {
   "cell_type": "code",
   "execution_count": 9,
   "outputs": [
    {
     "data": {
      "text/plain": "[{'segmentation': array([[False,  True,  True, ...,  True,  True, False],\n         [False,  True,  True, ...,  True,  True, False],\n         [False,  True,  True, ...,  True,  True, False],\n         ...,\n         [False,  True,  True, ...,  True,  True, False],\n         [False,  True,  True, ...,  True,  True, False],\n         [False,  True,  True, ...,  True,  True, False]]),\n  'area': 63352,\n  'bbox': [0, 0, 244, 327],\n  'predicted_iou': 1.0397645235061646,\n  'point_coords': [[126.84375, 322.875]],\n  'stability_score': 0.9745799899101257,\n  'crop_box': [0, 0, 246, 328]},\n {'segmentation': array([[False, False, False, ..., False, False, False],\n         [False, False, False, ..., False, False, False],\n         [False, False, False, ..., False, False, False],\n         ...,\n         [False, False, False, ..., False, False, False],\n         [False, False, False, ..., False, False, False],\n         [False, False, False, ..., False, False, False]]),\n  'area': 15383,\n  'bbox': [83, 2, 79, 319],\n  'predicted_iou': 0.9920912981033325,\n  'point_coords': [[96.09375, 87.125]],\n  'stability_score': 0.9661288261413574,\n  'crop_box': [0, 0, 246, 328]},\n {'segmentation': array([[False, False, False, ..., False, False, False],\n         [False, False, False, ..., False, False, False],\n         [False, False, False, ..., False, False, False],\n         ...,\n         [False, False, False, ..., False, False, False],\n         [False, False, False, ..., False, False, False],\n         [False, False, False, ..., False, False, False]]),\n  'area': 5882,\n  'bbox': [87, 139, 61, 143],\n  'predicted_iou': 0.9861165285110474,\n  'point_coords': [[119.15625, 148.625]],\n  'stability_score': 0.9764626622200012,\n  'crop_box': [0, 0, 246, 328]},\n {'segmentation': array([[False, False, False, ..., False, False, False],\n         [False, False, False, ..., False, False, False],\n         [False, False, False, ..., False, False, False],\n         ...,\n         [False, False, False, ..., False, False, False],\n         [False, False, False, ..., False, False, False],\n         [False, False, False, ..., False, False, False]]),\n  'area': 5849,\n  'bbox': [87, 71, 61, 242],\n  'predicted_iou': 0.9859119653701782,\n  'point_coords': [[119.15625, 271.625]],\n  'stability_score': 0.9637887477874756,\n  'crop_box': [0, 0, 246, 328]},\n {'segmentation': array([[False, False, False, ..., False, False, False],\n         [False, False, False, ..., False, False, False],\n         [False, False, False, ..., False, False, False],\n         ...,\n         [False, False, False, ..., False, False, False],\n         [False, False, False, ..., False, False, False],\n         [False, False, False, ..., False, False, False]]),\n  'area': 387,\n  'bbox': [112, 282, 16, 32],\n  'predicted_iou': 0.9668322205543518,\n  'point_coords': [[119.15625, 312.625]],\n  'stability_score': 0.9692307710647583,\n  'crop_box': [0, 0, 246, 328]},\n {'segmentation': array([[False, False, False, ..., False, False, False],\n         [False, False, False, ..., False, False, False],\n         [False, False, False, ..., False, False, False],\n         ...,\n         [False, False, False, ..., False, False, False],\n         [False, False, False, ..., False, False, False],\n         [False, False, False, ..., False, False, False]]),\n  'area': 4557,\n  'bbox': [83, 54, 73, 103],\n  'predicted_iou': 0.9664304256439209,\n  'point_coords': [[157.59375, 117.875]],\n  'stability_score': 0.9593060612678528,\n  'crop_box': [0, 0, 246, 328]},\n {'segmentation': array([[False, False, False, ..., False, False, False],\n         [False, False, False, ..., False, False, False],\n         [False, False, False, ..., False, False, False],\n         ...,\n         [False, False, False, ..., False, False, False],\n         [False, False, False, ..., False, False, False],\n         [False, False, False, ..., False, False, False]]),\n  'area': 348,\n  'bbox': [100, 273, 13, 30],\n  'predicted_iou': 0.9598443508148193,\n  'point_coords': [[111.46875, 292.125]],\n  'stability_score': 0.9602272510528564,\n  'crop_box': [0, 0, 246, 328]},\n {'segmentation': array([[False, False, False, ..., False, False, False],\n         [False, False, False, ..., False, False, False],\n         [False, False, False, ..., False, False, False],\n         ...,\n         [False, False, False, ..., False, False, False],\n         [False, False, False, ..., False, False, False],\n         [False, False, False, ..., False, False, False]]),\n  'area': 162,\n  'bbox': [150, 255, 9, 17],\n  'predicted_iou': 0.9589545726776123,\n  'point_coords': [[157.59375, 261.375]],\n  'stability_score': 0.9815950989723206,\n  'crop_box': [0, 0, 246, 328]},\n {'segmentation': array([[False, False, False, ..., False, False, False],\n         [False, False, False, ..., False, False, False],\n         [False, False, False, ..., False, False, False],\n         ...,\n         [False, False, False, ..., False, False, False],\n         [False, False, False, ..., False, False, False],\n         [False, False, False, ..., False, False, False]]),\n  'area': 117,\n  'bbox': [99, 298, 12, 16],\n  'predicted_iou': 0.9586184024810791,\n  'point_coords': [[103.78125, 312.625]],\n  'stability_score': 0.9914529919624329,\n  'crop_box': [0, 0, 246, 328]},\n {'segmentation': array([[False, False, False, ..., False, False, False],\n         [False, False, False, ..., False, False, False],\n         [False, False, False, ..., False, False, False],\n         ...,\n         [False, False, False, ..., False, False, False],\n         [False, False, False, ..., False, False, False],\n         [False, False, False, ..., False, False, False]]),\n  'area': 85,\n  'bbox': [8, 313, 12, 6],\n  'predicted_iou': 0.9517616629600525,\n  'point_coords': [[11.53125, 312.625]],\n  'stability_score': 0.9655172228813171,\n  'crop_box': [0, 0, 246, 328]},\n {'segmentation': array([[False, False, False, ..., False, False, False],\n         [False, False, False, ..., False, False, False],\n         [False, False, False, ..., False, False, False],\n         ...,\n         [False, False, False, ..., False, False, False],\n         [False, False, False, ..., False, False, False],\n         [False, False, False, ..., False, False, False]]),\n  'area': 236,\n  'bbox': [99, 315, 26, 12],\n  'predicted_iou': 0.9500564932823181,\n  'point_coords': [[119.15625, 322.875]],\n  'stability_score': 0.9748954176902771,\n  'crop_box': [0, 0, 246, 328]},\n {'segmentation': array([[False, False, False, ..., False, False, False],\n         [False, False, False, ..., False, False, False],\n         [False, False, False, ..., False, False, False],\n         ...,\n         [False, False, False, ..., False, False, False],\n         [False, False, False, ..., False, False, False],\n         [False, False, False, ..., False, False, False]]),\n  'area': 940,\n  'bbox': [114, 9, 20, 62],\n  'predicted_iou': 0.940939724445343,\n  'point_coords': [[119.15625, 35.875]],\n  'stability_score': 0.970588207244873,\n  'crop_box': [0, 0, 246, 328]},\n {'segmentation': array([[False, False, False, ..., False, False, False],\n         [False, False, False, ..., False, False, False],\n         [False, False, False, ..., False, False, False],\n         ...,\n         [False, False, False, ..., False, False, False],\n         [False, False, False, ..., False, False, False],\n         [False, False, False, ..., False, False, False]]),\n  'area': 264,\n  'bbox': [151, 136, 11, 48],\n  'predicted_iou': 0.9342724680900574,\n  'point_coords': [[157.59375, 158.875]],\n  'stability_score': 0.9666666388511658,\n  'crop_box': [0, 0, 246, 328]},\n {'segmentation': array([[False, False, False, ..., False, False, False],\n         [False, False, False, ..., False, False, False],\n         [False, False, False, ..., False, False, False],\n         ...,\n         [False, False, False, ..., False, False, False],\n         [False, False, False, ..., False, False, False],\n         [False, False, False, ..., False, False, False]]),\n  'area': 171,\n  'bbox': [8, 312, 21, 7],\n  'predicted_iou': 0.9318943023681641,\n  'point_coords': [[26.90625, 312.625]],\n  'stability_score': 0.977142870426178,\n  'crop_box': [0, 0, 246, 328]},\n {'segmentation': array([[False, False, False, ..., False, False, False],\n         [False, False, False, ..., False, False, False],\n         [False, False, False, ..., False, False, False],\n         ...,\n         [False, False, False, ..., False, False, False],\n         [False, False, False, ..., False, False, False],\n         [False, False, False, ..., False, False, False]]),\n  'area': 473,\n  'bbox': [99, 273, 15, 41],\n  'predicted_iou': 0.9297422170639038,\n  'point_coords': [[111.46875, 292.125]],\n  'stability_score': 0.9685534834861755,\n  'crop_box': [0, 0, 246, 328]},\n {'segmentation': array([[False, False, False, ..., False, False, False],\n         [False, False, False, ..., False, False, False],\n         [False, False, False, ..., False, False, False],\n         ...,\n         [False, False, False, ..., False, False, False],\n         [False, False, False, ..., False, False, False],\n         [False, False, False, ..., False, False, False]]),\n  'area': 262,\n  'bbox': [151, 152, 11, 32],\n  'predicted_iou': 0.9297142624855042,\n  'point_coords': [[157.59375, 179.375]],\n  'stability_score': 0.9771863222122192,\n  'crop_box': [0, 0, 246, 328]},\n {'segmentation': array([[False, False, False, ..., False, False, False],\n         [False, False, False, ..., False, False, False],\n         [False, False, False, ..., False, False, False],\n         ...,\n         [False, False, False, ..., False, False, False],\n         [False, False, False, ..., False, False, False],\n         [False, False, False, ..., False, False, False]]),\n  'area': 3203,\n  'bbox': [93, 191, 50, 91],\n  'predicted_iou': 0.8820131421089172,\n  'point_coords': [[134.53125, 210.125]],\n  'stability_score': 0.9645061492919922,\n  'crop_box': [0, 0, 246, 328]}]"
     },
     "execution_count": 9,
     "metadata": {},
     "output_type": "execute_result"
    }
   ],
   "source": [
    "import numpy as np\n",
    "from segment_anything import SamAutomaticMaskGenerator, sam_model_registry\n",
    "\n",
    "\n",
    "image = cv2.imread('/workspace/NN/data/sirius_data/1.jpg')\n",
    "predictor.set_image(image)\n",
    "\n",
    "# sam = sam_model_registry[\"<model_type>\"](checkpoint=\"<path/to/checkpoint>\")\n",
    "mask_generator = SamAutomaticMaskGenerator(sam)\n",
    "masks = mask_generator.generate(image)\n",
    "\n",
    "# masks, _, _ = predictor.predict(image)\n",
    "# image_embedding = predictor.get_image_embedding().cpu().numpy()\n",
    "# np.save(\"/workspace/NN/data/res/dogs_embedding.npy\", image_embedding)\n"
   ],
   "metadata": {
    "collapsed": false,
    "ExecuteTime": {
     "end_time": "2024-09-28T20:54:55.366873400Z",
     "start_time": "2024-09-28T20:54:52.440122200Z"
    }
   }
  },
  {
   "cell_type": "code",
   "execution_count": 10,
   "outputs": [
    {
     "data": {
      "text/plain": "17"
     },
     "execution_count": 10,
     "metadata": {},
     "output_type": "execute_result"
    }
   ],
   "source": [
    "len(masks)"
   ],
   "metadata": {
    "collapsed": false,
    "ExecuteTime": {
     "end_time": "2024-09-28T20:55:48.857633300Z",
     "start_time": "2024-09-28T20:55:48.836318700Z"
    }
   }
  },
  {
   "cell_type": "code",
   "execution_count": 17,
   "outputs": [],
   "source": [],
   "metadata": {
    "collapsed": false,
    "ExecuteTime": {
     "end_time": "2024-09-28T15:46:57.988262700Z",
     "start_time": "2024-09-28T15:46:57.984120Z"
    }
   }
  },
  {
   "cell_type": "code",
   "execution_count": null,
   "outputs": [],
   "source": [],
   "metadata": {
    "collapsed": false
   }
  }
 ],
 "metadata": {
  "kernelspec": {
   "display_name": "Python 3 (ipykernel)",
   "language": "python",
   "name": "python3"
  },
  "language_info": {
   "codemirror_mode": {
    "name": "ipython",
    "version": 3
   },
   "file_extension": ".py",
   "mimetype": "text/x-python",
   "name": "python",
   "nbconvert_exporter": "python",
   "pygments_lexer": "ipython3",
   "version": "3.11.8"
  }
 },
 "nbformat": 4,
 "nbformat_minor": 5
}
